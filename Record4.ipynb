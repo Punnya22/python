{
 "cells": [
  {
   "cell_type": "code",
   "execution_count": 4,
   "id": "ff59aa9d-e3a2-4507-a296-613a13fc7c1e",
   "metadata": {},
   "outputs": [
    {
     "name": "stdin",
     "output_type": "stream",
     "text": [
      "Enter a string : niya\n"
     ]
    },
    {
     "name": "stdout",
     "output_type": "stream",
     "text": [
      "converted string is : aiyn\n"
     ]
    }
   ],
   "source": [
    "#change str to new str where the first and last char have been exchanged\n",
    "n=input(\"Enter a string :\")\n",
    "rev=n[-1]+n[1:-1]+n[0]\n",
    "print(\"converted string is :\",rev)"
   ]
  },
  {
   "cell_type": "code",
   "execution_count": 5,
   "id": "37fc649b-1bd1-4ba5-8edc-a5703c5e0096",
   "metadata": {},
   "outputs": [
    {
     "name": "stdin",
     "output_type": "stream",
     "text": [
      "Enter a string : aiswarya\n"
     ]
    },
    {
     "name": "stdout",
     "output_type": "stream",
     "text": [
      "the letters is : aiya\n"
     ]
    }
   ],
   "source": [
    "#get a str made of the first 2 and last 2 char from a given str\n",
    "n=input(\"Enter a string :\")\n",
    "ltr=n[0]+n[1]+n[-2]+n[-1]\n",
    "print(\"the letters is :\",ltr)"
   ]
  },
  {
   "cell_type": "code",
   "execution_count": 2,
   "id": "3afa1b18-6cc5-44a7-8396-c6f2266213ca",
   "metadata": {},
   "outputs": [
    {
     "name": "stdin",
     "output_type": "stream",
     "text": [
      "Enter first string :  happy\n",
      "Enter second string :  days\n"
     ]
    },
    {
     "name": "stdout",
     "output_type": "stream",
     "text": [
      "The swaped string is :  dappy hays\n"
     ]
    }
   ],
   "source": [
    "#get single str from 2 given str,seprated by space & swap 1st 2char of each str\n",
    "a=input(\"Enter first string : \")\n",
    "b=input(\"Enter second string : \")\n",
    "a2=b[:2]+a[2:]\n",
    "b2=a[:2]+b[2:]\n",
    "out=a2+ \" \" +b2\n",
    "print(\"The swaped string is : \",out)"
   ]
  },
  {
   "cell_type": "code",
   "execution_count": 3,
   "id": "f6a59b67-c702-412e-b24a-b0a27efef53c",
   "metadata": {},
   "outputs": [
    {
     "name": "stdin",
     "output_type": "stream",
     "text": [
      "Enter a string :  onion\n"
     ]
    },
    {
     "name": "stdout",
     "output_type": "stream",
     "text": [
      "Changed string is :  oni$n\n"
     ]
    }
   ],
   "source": [
    "#get a str from given str where all occ. of 1st char have been change to $ except the 1st char itself\n",
    "n=input(\"Enter a string : \")\n",
    "fn=n[0]\n",
    "a=fn+n[1:].replace(fn,\"$\")\n",
    "print(\"Changed string is : \",a)"
   ]
  },
  {
   "cell_type": "code",
   "execution_count": null,
   "id": "eac914c5-8781-4c23-aa2b-94ab113882ff",
   "metadata": {},
   "outputs": [],
   "source": []
  }
 ],
 "metadata": {
  "kernelspec": {
   "display_name": "Python 3 (ipykernel)",
   "language": "python",
   "name": "python3"
  },
  "language_info": {
   "codemirror_mode": {
    "name": "ipython",
    "version": 3
   },
   "file_extension": ".py",
   "mimetype": "text/x-python",
   "name": "python",
   "nbconvert_exporter": "python",
   "pygments_lexer": "ipython3",
   "version": "3.11.7"
  }
 },
 "nbformat": 4,
 "nbformat_minor": 5
}
