{
 "cells": [
  {
   "cell_type": "code",
   "execution_count": 1,
   "id": "c0aa29af-37cf-4ee6-946e-5aeddc5ab332",
   "metadata": {},
   "outputs": [
    {
     "name": "stdin",
     "output_type": "stream",
     "text": [
      "Enter the side length of the square :  2\n"
     ]
    },
    {
     "name": "stdout",
     "output_type": "stream",
     "text": [
      "Area of the square is : 4.0\n"
     ]
    }
   ],
   "source": [
    "#area of a square\n",
    "side = float(input(\"Enter the side length of the square : \"))\n",
    "area = side * side \n",
    "print(\"Area of the square is :\", area)"
   ]
  },
  {
   "cell_type": "code",
   "execution_count": 2,
   "id": "9c0fde17-fad1-4dea-92a3-f4a4642f3035",
   "metadata": {},
   "outputs": [
    {
     "name": "stdin",
     "output_type": "stream",
     "text": [
      "Enter the base:  2\n",
      "Enter the height:  3\n"
     ]
    },
    {
     "name": "stdout",
     "output_type": "stream",
     "text": [
      "Area of the right-angled triangle is: 3.0\n"
     ]
    }
   ],
   "source": [
    "#area of right angled triangle\n",
    "base = float(input(\"Enter the base: \"))\n",
    "height = float(input(\"Enter the height: \"))\n",
    "area = 0.5 * base * height\n",
    "print(\"Area of the right-angled triangle is:\", area)"
   ]
  },
  {
   "cell_type": "code",
   "execution_count": 2,
   "id": "56904f67-ac02-4f69-a35f-6c922731b0a0",
   "metadata": {},
   "outputs": [
    {
     "name": "stdout",
     "output_type": "stream",
     "text": [
      "Hello Harry !\n"
     ]
    }
   ],
   "source": [
    "#print hello harry\n",
    "name=\"Hello Harry !\"\n",
    "print(name)"
   ]
  },
  {
   "cell_type": "code",
   "execution_count": 7,
   "id": "e3ae28b7-ed48-40e2-a86a-49136254ed9a",
   "metadata": {},
   "outputs": [
    {
     "name": "stdin",
     "output_type": "stream",
     "text": [
      "Enter a number:  5\n"
     ]
    },
    {
     "name": "stdout",
     "output_type": "stream",
     "text": [
      "Previous number is:  4\n",
      "Next number is:  6\n"
     ]
    }
   ],
   "source": [
    "#read a number and print its previous and next number\n",
    "num=int(input(\"Enter a number: \"))\n",
    "previous=num-1\n",
    "next=num+1\n",
    "print(\"Previous number is: \",previous)\n",
    "print(\"Next number is: \",next)"
   ]
  },
  {
   "cell_type": "code",
   "execution_count": 8,
   "id": "a7d4e728-5530-4381-a843-dd0a0dbcadc7",
   "metadata": {},
   "outputs": [
    {
     "name": "stdin",
     "output_type": "stream",
     "text": [
      "Enter the principal amount:  3\n",
      "Enter the rate of interest(per year):  4\n",
      "Enter the time:  5\n"
     ]
    },
    {
     "name": "stdout",
     "output_type": "stream",
     "text": [
      "Simple intrest is:  0.6\n"
     ]
    }
   ],
   "source": [
    "#computing simple interest\n",
    "p=float(input(\"Enter the principal amount: \"))  #float is a function ,it is use to import  a value\n",
    "r=float(input(\"Enter the rate of interest(per year): \"))\n",
    "t=float(input(\"Enter the time: \"))\n",
    "interest=(p*r*t)/100\n",
    "print(\"Simple intrest is: \",interest)"
   ]
  },
  {
   "cell_type": "code",
   "execution_count": null,
   "id": "a5a230d0-9ded-4b96-acca-07390ee63e52",
   "metadata": {},
   "outputs": [],
   "source": []
  }
 ],
 "metadata": {
  "kernelspec": {
   "display_name": "Python 3 (ipykernel)",
   "language": "python",
   "name": "python3"
  },
  "language_info": {
   "codemirror_mode": {
    "name": "ipython",
    "version": 3
   },
   "file_extension": ".py",
   "mimetype": "text/x-python",
   "name": "python",
   "nbconvert_exporter": "python",
   "pygments_lexer": "ipython3",
   "version": "3.11.7"
  }
 },
 "nbformat": 4,
 "nbformat_minor": 5
}
