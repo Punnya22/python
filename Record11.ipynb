{
 "cells": [
  {
   "cell_type": "code",
   "execution_count": 10,
   "id": "4d1f2138-f544-461c-a9ca-24b1052bb5ef",
   "metadata": {},
   "outputs": [
    {
     "name": "stdin",
     "output_type": "stream",
     "text": [
      "Enter a paragraph :  the world is the paradise\n"
     ]
    },
    {
     "name": "stdout",
     "output_type": "stream",
     "text": [
      "Occurrents of :  paradise : 1\n",
      "Occurrents of :  is : 1\n",
      "Occurrents of :  the : 2\n",
      "Occurrents of :  world : 1\n"
     ]
    }
   ],
   "source": [
    "#count the occurrences of each word in a line of text\n",
    "txt=input(\"Enter a paragraph : \").split()\n",
    "t=set(txt)\n",
    "for text in t:\n",
    "    count=txt.count(text)\n",
    "    print(\"Occurrents of : \",text,\":\",count)"
   ]
  },
  {
   "cell_type": "code",
   "execution_count": 12,
   "id": "b0586e25-8406-4a92-b984-3bc922a3175c",
   "metadata": {},
   "outputs": [
    {
     "name": "stdin",
     "output_type": "stream",
     "text": [
      "Enter some number :  10 20 130 140 50\n"
     ]
    },
    {
     "name": "stdout",
     "output_type": "stream",
     "text": [
      "Number grater than 100 store over insted [10, 20, 'over', 'over', 50]\n"
     ]
    }
   ],
   "source": [
    "#prompt the user for a list of integers.for all val grater than 100 store over insted\n",
    "num=input(\"Enter some number : \").split()\n",
    "n=[]\n",
    "for nums in num:\n",
    "    nu = int(nums)\n",
    "    if nu > 100:\n",
    "        n.append(\"over\")\n",
    "    else:\n",
    "        n.append(nu)\n",
    "print(\"Number grater than 100 store over insted\",n)"
   ]
  },
  {
   "cell_type": "code",
   "execution_count": 11,
   "id": "015158a7-60bd-407b-83da-60de29523529",
   "metadata": {},
   "outputs": [
    {
     "name": "stdin",
     "output_type": "stream",
     "text": [
      "Enter some names :  niyaa,punnya,niyaa\n"
     ]
    },
    {
     "name": "stdout",
     "output_type": "stream",
     "text": [
      "Occurrences of each name : {'niyaa': 2, 'punnya': 1}\n",
      "Total occurrences of 'a': 5\n"
     ]
    }
   ],
   "source": [
    "#store a list of 1st names.count the occurence of a in the list\n",
    "names = input(\"Enter some names : \").split(\",\")\n",
    "ncount = {}\n",
    "for name in names:\n",
    "    ncount[name] = ncount.get(name, 0) + 1\n",
    "print(\"Occurrences of each name :\", ncount)\n",
    "ca = sum(name.lower().count('a') for name in names)\n",
    "print(\"Total occurrences of 'a':\", ca)"
   ]
  },
  {
   "cell_type": "code",
   "execution_count": 3,
   "id": "88dbef5d-9c7b-4e2b-bd64-cd3aa0e41a68",
   "metadata": {},
   "outputs": [
    {
     "name": "stdin",
     "output_type": "stream",
     "text": [
      "Enter first number:  3\n",
      "Enter second number:  5\n"
     ]
    },
    {
     "name": "stdout",
     "output_type": "stream",
     "text": [
      "GCD is: 1\n"
     ]
    }
   ],
   "source": [
    "#Find gcd of 2 numbers.\n",
    "a = int(input(\"Enter first number: \"))\n",
    "b = int(input(\"Enter second number: \"))\n",
    "gcd = 1\n",
    "for i in range(1, min(a, b) + 1):\n",
    "    if a % i == 0 and b % i == 0:\n",
    "        gcd = i\n",
    "print(\"GCD is:\", gcd)"
   ]
  },
  {
   "cell_type": "code",
   "execution_count": 1,
   "id": "b8f66d76-9012-4827-bd21-ec44fefcc83e",
   "metadata": {},
   "outputs": [
    {
     "name": "stdin",
     "output_type": "stream",
     "text": [
      "enter some integers=  1 2 3 4 5 6 7 8 9\n"
     ]
    },
    {
     "name": "stdout",
     "output_type": "stream",
     "text": [
      "entered integers is=  [1, 2, 3, 4, 5, 6, 7, 8, 9]\n",
      "odd number is= [1, 3, 5, 7, 9]\n"
     ]
    }
   ],
   "source": [
    "#From a list of integers, create a list removing even numbers.\n",
    "nums=list(map(int,input(\"enter some integers= \").split()))\n",
    "num=[]\n",
    "print(\"entered integers is= \",nums)\n",
    "for n in nums:\n",
    "    if n%2!=0:\n",
    "            num.append(n)\n",
    "print(\"odd number is=\",num) "
   ]
  },
  {
   "cell_type": "code",
   "execution_count": 16,
   "id": "af790861-ea1d-4d9a-94da-f74ea88da189",
   "metadata": {},
   "outputs": [
    {
     "name": "stdin",
     "output_type": "stream",
     "text": [
      "Enter a number :  5\n"
     ]
    },
    {
     "name": "stdout",
     "output_type": "stream",
     "text": [
      "Factorial: 120\n"
     ]
    }
   ],
   "source": [
    "#Program to find the factorial of a number\n",
    "import math\n",
    "n = int(input(\"Enter a number : \"))\n",
    "factorial = 1\n",
    "for i in range(1, n + 1):\n",
    "    factorial *= i\n",
    "print(\"Factorial:\", factorial)"
   ]
  },
  {
   "cell_type": "code",
   "execution_count": 11,
   "id": "d0167b38-ef7e-4708-af68-c7ffe0243004",
   "metadata": {},
   "outputs": [
    {
     "name": "stdin",
     "output_type": "stream",
     "text": [
      "Enter a number :  10\n"
     ]
    },
    {
     "name": "stdout",
     "output_type": "stream",
     "text": [
      "Fibonacci series : \n",
      "0 1 1 2 3 5 8 13 21 34 "
     ]
    }
   ],
   "source": [
    "#Generate Fibonacci series of N terms\n",
    "n = int(input(\"Enter a number : \"))\n",
    "a, b = 0, 1\n",
    "print(\"Fibonacci series : \")\n",
    "for _ in range(n):\n",
    "    print(a, end=\" \")\n",
    "    a, b = b, a + b"
   ]
  },
  {
   "cell_type": "code",
   "execution_count": 6,
   "id": "0f0c6fd0-4b37-41cf-b364-f16780c64823",
   "metadata": {},
   "outputs": [
    {
     "name": "stdin",
     "output_type": "stream",
     "text": [
      "Enter integers :  30 20 5 2\n"
     ]
    },
    {
     "name": "stdout",
     "output_type": "stream",
     "text": [
      "Sum of list: 57\n"
     ]
    }
   ],
   "source": [
    "#Find the sum of all items in a list\n",
    "nums = list(map(int, input(\"Enter integers : \").split()))\n",
    "total = 0\n",
    "for num in nums:\n",
    "    total += num\n",
    "print(\"Sum of list:\", total)"
   ]
  },
  {
   "cell_type": "code",
   "execution_count": 2,
   "id": "482dab3f-d049-4b46-8fef-35186829b8b5",
   "metadata": {},
   "outputs": [
    {
     "name": "stdin",
     "output_type": "stream",
     "text": [
      "Enter the start of range of some 4 digit number :  2253\n",
      "Enter the end of range of some 4 digit number :  6645\n"
     ]
    },
    {
     "name": "stdout",
     "output_type": "stream",
     "text": [
      "Numbers with all even digits and perfect squares :  [4624, 6084, 6400]\n"
     ]
    }
   ],
   "source": [
    "#Generate a list of four digit numbers in a given range with all their digits even and the number is a perfect square.\n",
    "import math\n",
    "start = int(input(\"Enter the start of range of some 4 digit number : \"))\n",
    "end = int(input(\"Enter the end of range of some 4 digit number : \"))\n",
    "result = []\n",
    "for num in range(start, end + 1):\n",
    "    if all(int(digit) % 2 == 0 for digit in str(num)):\n",
    "        if int(math.isqrt(num)) ** 2 == num:\n",
    "            result.append(num)\n",
    "print(\"Numbers with all even digits and perfect squares : \", result)"
   ]
  },
  {
   "cell_type": "code",
   "execution_count": 20,
   "id": "49495e89-ee4e-4af2-9bb0-bbcb901fb87b",
   "metadata": {},
   "outputs": [
    {
     "name": "stdin",
     "output_type": "stream",
     "text": [
      "Enter a string :  niyaaa\n"
     ]
    },
    {
     "name": "stdout",
     "output_type": "stream",
     "text": [
      "Character frequency : {'n': 1, 'i': 1, 'y': 1, 'a': 3}\n"
     ]
    }
   ],
   "source": [
    "#Count the number of characters (character frequency) in a string.\n",
    "text = input(\"Enter a string : \")\n",
    "txtcount = {}\n",
    "for ch in text:\n",
    "    txtcount[ch] = txtcount.get(ch, 0) + 1\n",
    "print(\"Character frequency :\", txtcount)"
   ]
  },
  {
   "cell_type": "code",
   "execution_count": 17,
   "id": "0714e308-6e23-4a6d-8007-6aed36ee4275",
   "metadata": {},
   "outputs": [
    {
     "name": "stdin",
     "output_type": "stream",
     "text": [
      "Enter number :  5\n"
     ]
    },
    {
     "name": "stdout",
     "output_type": "stream",
     "text": [
      "1 \n",
      "2 4 \n",
      "3 6 9 \n",
      "4 8 12 16 \n",
      "5 10 15 20 25 \n"
     ]
    }
   ],
   "source": [
    "#Display the given pyramid with step number accepted from user.\n",
    "n = int(input(\"Enter number : \"))sum(nums)\n",
    "for i in range(1, n+1):\n",
    "    for j in range(1, i+1):\n",
    "        print(i*j, end=\" \")\n",
    "    print()"
   ]
  },
  {
   "cell_type": "code",
   "execution_count": null,
   "id": "591fbeeb-3034-48e3-bca5-366c51b3453f",
   "metadata": {},
   "outputs": [],
   "source": []
  }
 ],
 "metadata": {
  "kernelspec": {
   "display_name": "Python 3 (ipykernel)",
   "language": "python",
   "name": "python3"
  },
  "language_info": {
   "codemirror_mode": {
    "name": "ipython",
    "version": 3
   },
   "file_extension": ".py",
   "mimetype": "text/x-python",
   "name": "python",
   "nbconvert_exporter": "python",
   "pygments_lexer": "ipython3",
   "version": "3.11.7"
  }
 },
 "nbformat": 4,
 "nbformat_minor": 5
}
