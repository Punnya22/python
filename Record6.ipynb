{
 "cells": [
  {
   "cell_type": "code",
   "execution_count": 6,
   "id": "240ae147-48ad-4a51-a6c5-d004410059ff",
   "metadata": {},
   "outputs": [
    {
     "name": "stdin",
     "output_type": "stream",
     "text": [
      "Enter the element :  1 2 3 4 5 6 7\n"
     ]
    },
    {
     "name": "stdout",
     "output_type": "stream",
     "text": [
      "The numbers :  (1, 2, 3, 4, 5, 6, 7)\n",
      "Third elemet :  3\n",
      "Third from last :  5\n"
     ]
    }
   ],
   "source": [
    "#to get the 3rd element &3rd element from last of a tuple\n",
    "n=input(\"Enter the element : \")\n",
    "num=tuple(map(int,n.split()))\n",
    "third=num[2]\n",
    "lst_third=num[-3]\n",
    "print(\"The numbers : \",num)\n",
    "print(\"Third elemet : \",third) \n",
    "print(\"Third from last : \",lst_third)"
   ]
  },
  {
   "cell_type": "code",
   "execution_count": 7,
   "id": "88f1caec-e405-4587-bc37-4c9431c148e1",
   "metadata": {},
   "outputs": [
    {
     "name": "stdin",
     "output_type": "stream",
     "text": [
      "Enter the element :  2 4 6 8\n"
     ]
    },
    {
     "name": "stdout",
     "output_type": "stream",
     "text": [
      "The numbers :  (2, 4, 6, 8)\n",
      "The average is :  5.0\n"
     ]
    }
   ],
   "source": [
    "#accept a sequence of comma-seperated no. & generate tuple with those no. & find avg\n",
    "n=input(\"Enter the element : \")\n",
    "num=tuple(map(int,n.split()))\n",
    "avg=sum(num)/len(num)\n",
    "print(\"The numbers : \",num)\n",
    "print(\"The average is : \",avg)"
   ]
  },
  {
   "cell_type": "code",
   "execution_count": null,
   "id": "682d5372-ba4f-42c0-a33b-f3e433ad0ce6",
   "metadata": {},
   "outputs": [],
   "source": []
  }
 ],
 "metadata": {
  "kernelspec": {
   "display_name": "Python 3 (ipykernel)",
   "language": "python",
   "name": "python3"
  },
  "language_info": {
   "codemirror_mode": {
    "name": "ipython",
    "version": 3
   },
   "file_extension": ".py",
   "mimetype": "text/x-python",
   "name": "python",
   "nbconvert_exporter": "python",
   "pygments_lexer": "ipython3",
   "version": "3.11.7"
  }
 },
 "nbformat": 4,
 "nbformat_minor": 5
}
