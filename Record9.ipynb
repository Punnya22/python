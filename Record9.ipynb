{
 "cells": [
  {
   "cell_type": "code",
   "execution_count": 2,
   "id": "240ae147-48ad-4a51-a6c5-d004410059ff",
   "metadata": {},
   "outputs": [
    {
     "name": "stdin",
     "output_type": "stream",
     "text": [
      "Enter 5 student names :  niya amithe karuna aswani anu \n",
      "Enter 5 student roll numbers :  21 4 14 6 3\n"
     ]
    },
    {
     "name": "stdout",
     "output_type": "stream",
     "text": [
      "Dictionary is :\n",
      "{21: 'niya', 4: 'amithe', 14: 'karuna', 6: 'aswani', 3: 'anu'}\n",
      "Ascending Order :  {3: 'anu', 4: 'amithe', 6: 'aswani', 14: 'karuna', 21: 'niya'}\n",
      "Descending Order :  {21: 'niya', 14: 'karuna', 6: 'aswani', 4: 'amithe', 3: 'anu'}\n"
     ]
    }
   ],
   "source": [
    "#accept 5 std name & rollNo.,&map into a dict(roll as key,name as value)\n",
    "#sort dict into ascentig and desending order of the rollNo.[use sorted()]\n",
    "name=input(\"Enter 5 student names : \").split(\",\")\n",
    "rollNo=input(\"Enter 5 student roll numbers : \").split()\n",
    "\n",
    "rollNo=list(map(int, rollNo))\n",
    "\n",
    "sdict=dict(zip(rollNo, name))\n",
    "print(\"Dictionary is :\")\n",
    "print(sdict)\n",
    "\n",
    "asc=dict(sorted(sdict.items()))\n",
    "print(\"Ascending Order : \",asc)\n",
    "\n",
    "des=dict(sorted(sdict.items(), reverse=True))\n",
    "print(\"Descending Order : \",des)"
   ]
  },
  {
   "cell_type": "code",
   "execution_count": 1,
   "id": "e6d4e7bd-ea77-49a0-8c86-4d17690c4da4",
   "metadata": {},
   "outputs": [
    {
     "name": "stdin",
     "output_type": "stream",
     "text": [
      "Enter 3 student roll numbers :  1 5 7\n",
      "Enter 3 student names :  anu aswani shaikha\n"
     ]
    },
    {
     "name": "stdout",
     "output_type": "stream",
     "text": [
      "Dictionary of 3 student :  {'1': 'anu', '5': 'aswani', '7': 'shaikha'}\n"
     ]
    },
    {
     "name": "stdin",
     "output_type": "stream",
     "text": [
      "Enter 2 student roll numbers :  7 5 3\n",
      "Enter 2 student names :  karuna aswani ayishu\n"
     ]
    },
    {
     "name": "stdout",
     "output_type": "stream",
     "text": [
      "Dictionary of 2 student :  {'7': 'karuna', '5': 'aswani', '3': 'ayishu'}\n",
      "Merged Dictionary :  {'1': 'anu', '5': 'aswani', '7': 'karuna', '3': 'ayishu'}\n"
     ]
    }
   ],
   "source": [
    "#accept 2 dictionaries(dic1 contains 3 std name rollNo,dic2 contains 2 std name rollNo)\n",
    "#merge 2 dict and display it[use update()]\n",
    "d1 = input(\"Enter 3 student roll numbers : \").split()\n",
    "di1 = input(\"Enter 3 student names : \").split(\",\")\n",
    "dic1 = dict(zip(d1, di1))\n",
    "print(\"Dictionary of 3 student : \",dic1)\n",
    "\n",
    "d2 = input(\"Enter 2 student roll numbers : \").split()\n",
    "di2 = input(\"Enter 2 student names : \").split(\",\")\n",
    "dic2 = dict(zip(d2, di2))\n",
    "print(\"Dictionary of 2 student : \",dic2)\n",
    "\n",
    "dic1.update(dic2)\n",
    "\n",
    "print(\"Merged Dictionary : \",dic1)"
   ]
  },
  {
   "cell_type": "code",
   "execution_count": null,
   "id": "a18d0889-d316-4013-b6ec-f11c47bbe9de",
   "metadata": {},
   "outputs": [],
   "source": []
  }
 ],
 "metadata": {
  "kernelspec": {
   "display_name": "Python 3 (ipykernel)",
   "language": "python",
   "name": "python3"
  },
  "language_info": {
   "codemirror_mode": {
    "name": "ipython",
    "version": 3
   },
   "file_extension": ".py",
   "mimetype": "text/x-python",
   "name": "python",
   "nbconvert_exporter": "python",
   "pygments_lexer": "ipython3",
   "version": "3.11.7"
  }
 },
 "nbformat": 4,
 "nbformat_minor": 5
}
