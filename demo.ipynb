{
 "cells": [
  {
   "cell_type": "code",
   "execution_count": 1,
   "id": "5473d905-a40f-4629-bf67-07394f7ca9cd",
   "metadata": {},
   "outputs": [
    {
     "name": "stdout",
     "output_type": "stream",
     "text": [
      "good morning\n"
     ]
    }
   ],
   "source": [
    "print(\"good morning\")"
   ]
  },
  {
   "cell_type": "code",
   "execution_count": 2,
   "id": "2b2cbf48-89a2-47ed-b0c2-faa6941ebecf",
   "metadata": {},
   "outputs": [
    {
     "name": "stdout",
     "output_type": "stream",
     "text": [
      "Punnya \n",
      "Puthankudiyil h \n",
      "Mayyanthani,Chandhakunnu po \n",
      "Nilambur, Malappuram, Kerala\n"
     ]
    }
   ],
   "source": [
    "print(\"Punnya \\nPuthankudiyil h \\nMayyanthani,Chandhakunnu po \\nNilambur, Malappuram, Kerala\")"
   ]
  },
  {
   "cell_type": "code",
   "execution_count": 2,
   "id": "820a1f46-fa94-4f68-b4da-d43fa7b41358",
   "metadata": {},
   "outputs": [
    {
     "name": "stdout",
     "output_type": "stream",
     "text": [
      "8\n"
     ]
    }
   ],
   "source": [
    "print(2*2*2)"
   ]
  },
  {
   "cell_type": "code",
   "execution_count": 4,
   "id": "ce32f1bc-094a-402b-9b71-17633012843e",
   "metadata": {},
   "outputs": [
    {
     "name": "stdout",
     "output_type": "stream",
     "text": [
      "2.5\n"
     ]
    }
   ],
   "source": [
    "print(5/2)"
   ]
  },
  {
   "cell_type": "code",
   "execution_count": 5,
   "id": "61428374-022b-4b62-9f04-116e16af7e64",
   "metadata": {},
   "outputs": [
    {
     "name": "stdout",
     "output_type": "stream",
     "text": [
      "0\n"
     ]
    }
   ],
   "source": [
    "print(2//5)"
   ]
  },
  {
   "cell_type": "code",
   "execution_count": 6,
   "id": "5ccbf0bf-b5d0-479c-bdd6-d93a9f34a1c3",
   "metadata": {},
   "outputs": [
    {
     "name": "stdout",
     "output_type": "stream",
     "text": [
      "4\n"
     ]
    }
   ],
   "source": [
    "print(2**2)"
   ]
  },
  {
   "cell_type": "code",
   "execution_count": 7,
   "id": "fbce708d-3c82-4649-a69b-0e9326311149",
   "metadata": {},
   "outputs": [
    {
     "name": "stdout",
     "output_type": "stream",
     "text": [
      "MCA's Student\n"
     ]
    }
   ],
   "source": [
    "print(\"MCA's Student\")"
   ]
  },
  {
   "cell_type": "code",
   "execution_count": 8,
   "id": "b73a35e2-b444-43cd-9802-f16ff981db70",
   "metadata": {},
   "outputs": [
    {
     "name": "stdout",
     "output_type": "stream",
     "text": [
      "MCA \"Student\"\n"
     ]
    }
   ],
   "source": [
    "print('MCA \"Student\"')"
   ]
  },
  {
   "cell_type": "code",
   "execution_count": 9,
   "id": "d8b6e3b9-7e2b-4417-bf9e-dad8bda91667",
   "metadata": {},
   "outputs": [
    {
     "name": "stdout",
     "output_type": "stream",
     "text": [
      "niya\n"
     ]
    }
   ],
   "source": [
    "n=\"niya\"\n",
    "print(n)"
   ]
  },
  {
   "cell_type": "code",
   "execution_count": 10,
   "id": "d8cdcb89-0c89-417a-ab0a-fd54c0585cff",
   "metadata": {},
   "outputs": [
    {
     "name": "stdout",
     "output_type": "stream",
     "text": [
      "name =  karuna\n"
     ]
    }
   ],
   "source": [
    "n=\"karuna\"\n",
    "print(\"name = \",n)"
   ]
  },
  {
   "cell_type": "code",
   "execution_count": 11,
   "id": "a9cc9d82-030f-4fb0-8474-56d3977d2a49",
   "metadata": {},
   "outputs": [
    {
     "name": "stdout",
     "output_type": "stream",
     "text": [
      "name =  s\n"
     ]
    }
   ],
   "source": [
    "n=\"aswani\"\n",
    "print(\"name = \",n[1:2])"
   ]
  },
  {
   "cell_type": "code",
   "execution_count": 13,
   "id": "e345dd3d-2f5d-45ba-9e97-f8a3dc912fc6",
   "metadata": {},
   "outputs": [
    {
     "name": "stdout",
     "output_type": "stream",
     "text": [
      "name =  ikha\n"
     ]
    }
   ],
   "source": [
    "n=\"shaikha\"\n",
    "print(\"name = \",n[3:])"
   ]
  },
  {
   "cell_type": "code",
   "execution_count": null,
   "id": "16bff7b7-5719-4ab0-bd78-7972d3991bf3",
   "metadata": {},
   "outputs": [],
   "source": []
  }
 ],
 "metadata": {
  "kernelspec": {
   "display_name": "Python 3 (ipykernel)",
   "language": "python",
   "name": "python3"
  },
  "language_info": {
   "codemirror_mode": {
    "name": "ipython",
    "version": 3
   },
   "file_extension": ".py",
   "mimetype": "text/x-python",
   "name": "python",
   "nbconvert_exporter": "python",
   "pygments_lexer": "ipython3",
   "version": "3.11.7"
  }
 },
 "nbformat": 4,
 "nbformat_minor": 5
}
