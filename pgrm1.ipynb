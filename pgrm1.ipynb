{
 "cells": [
  {
   "cell_type": "code",
   "execution_count": 2,
   "id": "1e33fc2d-051d-4b52-9486-5b6d127fd704",
   "metadata": {},
   "outputs": [
    {
     "name": "stdin",
     "output_type": "stream",
     "text": [
      "Enter the side length of the square :  5\n"
     ]
    },
    {
     "name": "stdout",
     "output_type": "stream",
     "text": [
      "Area of the square is : 25.0\n"
     ]
    }
   ],
   "source": [
    "#area of a square\n",
    "side = float(input(\"Enter the side length of the square : \"))\n",
    "area = side * side \n",
    "print(\"Area of the square is :\", area)"
   ]
  },
  {
   "cell_type": "code",
   "execution_count": 3,
   "id": "685dcdae-d4f4-4794-bb9c-732b2a26b0c0",
   "metadata": {},
   "outputs": [
    {
     "name": "stdin",
     "output_type": "stream",
     "text": [
      "side a =  2\n",
      "side b =  3\n",
      "side c =  2\n"
     ]
    },
    {
     "name": "stdout",
     "output_type": "stream",
     "text": [
      "No, Triangle is not right-angled.\n"
     ]
    }
   ],
   "source": [
    "#area of right angled triangle\n",
    "a = float(input(\"side a = \"))\n",
    "b = float(input(\"side b = \"))\n",
    "c = float(input(\"side c = \"))\n",
    "sides = sorted([a, b, c])\n",
    "if round(sides[0]**2 + sides[1]**2, 5) == round(sides[2]**2, 5):\n",
    "    print(\"Yes, Triangle is right-angled.\")\n",
    "else:\n",
    "    print(\"No, Triangle is not right-angled.\")"
   ]
  },
  {
   "cell_type": "code",
   "execution_count": null,
   "id": "1c4b69a4-a687-4b99-a015-f59ea08d77f1",
   "metadata": {},
   "outputs": [],
   "source": []
  }
 ],
 "metadata": {
  "kernelspec": {
   "display_name": "Python 3 (ipykernel)",
   "language": "python",
   "name": "python3"
  },
  "language_info": {
   "codemirror_mode": {
    "name": "ipython",
    "version": 3
   },
   "file_extension": ".py",
   "mimetype": "text/x-python",
   "name": "python",
   "nbconvert_exporter": "python",
   "pygments_lexer": "ipython3",
   "version": "3.11.7"
  }
 },
 "nbformat": 4,
 "nbformat_minor": 5
}
