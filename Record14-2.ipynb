{
 "cells": [
  {
   "cell_type": "code",
   "execution_count": 10,
   "id": "fceadb14-0641-46e0-9f3f-8b816b7c9fe5",
   "metadata": {},
   "outputs": [
    {
     "name": "stdout",
     "output_type": "stream",
     "text": [
      "\n",
      "1. Rectangle\n",
      "2. Circle\n",
      "3. Cuboid\n",
      "4. Sphere\n",
      "5. Exit\n",
      "\n"
     ]
    },
    {
     "name": "stdin",
     "output_type": "stream",
     "text": [
      "Enter your choice:  1\n",
      "Enter the length of rectangle:  2\n",
      "Enter the breadth of rectangle:  3\n"
     ]
    },
    {
     "name": "stdout",
     "output_type": "stream",
     "text": [
      "area of rectangle : \n",
      "6\n",
      "perimeter of rectangle : \n",
      "10\n",
      "\n",
      "1. Rectangle\n",
      "2. Circle\n",
      "3. Cuboid\n",
      "4. Sphere\n",
      "5. Exit\n",
      "\n"
     ]
    },
    {
     "name": "stdin",
     "output_type": "stream",
     "text": [
      "Enter your choice:  2\n",
      "Enter the radius of circle:  2\n"
     ]
    },
    {
     "name": "stdout",
     "output_type": "stream",
     "text": [
      "area of circle : \n",
      "12.56\n",
      "perimeter of circle : \n",
      "12.56\n",
      "\n",
      "1. Rectangle\n",
      "2. Circle\n",
      "3. Cuboid\n",
      "4. Sphere\n",
      "5. Exit\n",
      "\n"
     ]
    },
    {
     "name": "stdin",
     "output_type": "stream",
     "text": [
      "Enter your choice:  3\n",
      "Enter the length of cuboid:  2\n",
      "Enter the breadth of cuboid:  6\n",
      "Enter the height of cuboid:  1\n"
     ]
    },
    {
     "name": "stdout",
     "output_type": "stream",
     "text": [
      "area of cuboid : \n",
      "32\n",
      "perimeter of cuboid : \n",
      "36\n",
      "\n",
      "1. Rectangle\n",
      "2. Circle\n",
      "3. Cuboid\n",
      "4. Sphere\n",
      "5. Exit\n",
      "\n"
     ]
    },
    {
     "name": "stdin",
     "output_type": "stream",
     "text": [
      "Enter your choice:  4\n",
      "Enter the radius of sphere:  2\n"
     ]
    },
    {
     "name": "stdout",
     "output_type": "stream",
     "text": [
      "area of sphere : \n",
      "50.24\n",
      "perimeter of sphere : \n",
      "12.56\n",
      "\n",
      "1. Rectangle\n",
      "2. Circle\n",
      "3. Cuboid\n",
      "4. Sphere\n",
      "5. Exit\n",
      "\n"
     ]
    },
    {
     "name": "stdin",
     "output_type": "stream",
     "text": [
      "Enter your choice:  5\n"
     ]
    },
    {
     "name": "stdout",
     "output_type": "stream",
     "text": [
      "Exiting...\n"
     ]
    }
   ],
   "source": [
    "from graphics.rectangle import area as rect_area, perimeter as rect_perimeter\n",
    "from graphics.circle import area as circle_area, perimeter as circle_perimeter\n",
    "from graphics.graphics3D.cuboid import area as cuboid_area, perimeter as cuboid_perimeter\n",
    "from graphics.graphics3D.sphere import area as sphere_area, perimeter as sphere_perimeter\n",
    "\n",
    "while (1):\n",
    "    print(\"\\n1. Rectangle\\n2. Circle\\n3. Cuboid\\n4. Sphere\\n5. Exit\\n\")\n",
    "    ch = int(input(\"Enter your choice: \"))\n",
    "\n",
    "    if ch == 1:\n",
    "        l = int(input(\"Enter the length of rectangle: \"))\n",
    "        b = int(input(\"Enter the breadth of rectangle: \"))\n",
    "        print(\"area of rectangle : \")\n",
    "        rect_area(l, b)\n",
    "        print(\"perimeter of rectangle : \")\n",
    "        rect_perimeter(l, b)\n",
    "\n",
    "    elif ch == 2:\n",
    "        r = int(input(\"Enter the radius of circle: \"))\n",
    "        print(\"area of circle : \")\n",
    "        circle_area(r)\n",
    "        print(\"perimeter of circle : \")\n",
    "        circle_perimeter(r)\n",
    "\n",
    "    elif ch == 3:\n",
    "        l = int(input(\"Enter the length of cuboid: \"))\n",
    "        b = int(input(\"Enter the breadth of cuboid: \"))\n",
    "        h = int(input(\"Enter the height of cuboid: \"))\n",
    "        print(\"area of cuboid : \")\n",
    "        cuboid_area(l, b, h)\n",
    "        print(\"perimeter of cuboid : \")\n",
    "        cuboid_perimeter(l, b, h)\n",
    "\n",
    "    elif ch == 4:\n",
    "        r = int(input(\"Enter the radius of sphere: \"))\n",
    "        print(\"area of sphere : \")\n",
    "        sphere_area(r)\n",
    "        print(\"perimeter of sphere : \")\n",
    "        sphere_perimeter(r)\n",
    "\n",
    "    elif ch == 5:\n",
    "        print(\"Exiting...\")\n",
    "        break"
   ]
  },
  {
   "cell_type": "code",
   "execution_count": null,
   "id": "4115fdca-3216-4ce1-97a6-90aa10bb03cc",
   "metadata": {},
   "outputs": [],
   "source": []
  }
 ],
 "metadata": {
  "kernelspec": {
   "display_name": "Python 3 (ipykernel)",
   "language": "python",
   "name": "python3"
  },
  "language_info": {
   "codemirror_mode": {
    "name": "ipython",
    "version": 3
   },
   "file_extension": ".py",
   "mimetype": "text/x-python",
   "name": "python",
   "nbconvert_exporter": "python",
   "pygments_lexer": "ipython3",
   "version": "3.11.7"
  }
 },
 "nbformat": 4,
 "nbformat_minor": 5
}
