{
 "cells": [
  {
   "cell_type": "code",
   "execution_count": 9,
   "id": "9a812dfe-8b31-49d1-a328-0917ed1b9443",
   "metadata": {},
   "outputs": [
    {
     "name": "stdin",
     "output_type": "stream",
     "text": [
      "Enter length of rectangle1 :  2\n",
      "Enter breadth of rectangle1 :  3\n",
      "Enter length of rectangle2 :  2\n",
      "Enter breadth of rectangle2 :  2\n"
     ]
    },
    {
     "name": "stdout",
     "output_type": "stream",
     "text": [
      "\n",
      "area of rectangle1 : 6\n",
      "perimeter of rectangle1 : 10\n",
      "\n",
      "area of rectangle2 : 4\n",
      "perimeter of rectangle2 : 8\n",
      "\n",
      "Rectangle 1 is greater\n"
     ]
    }
   ],
   "source": [
    "class rectangle:\n",
    "    def get(self, l, b):\n",
    "        self.length = l\n",
    "        self.breadth = b\n",
    "\n",
    "    def area(self, l, b):\n",
    "        return l * b\n",
    "\n",
    "    def parimeter(self, l, b):\n",
    "        return 2 * (l + b)\n",
    "\n",
    "\n",
    "r1 = rectangle()\n",
    "l1 = int(input(\"Enter length of rectangle1 : \"))\n",
    "b1 = int(input(\"Enter breadth of rectangle1 : \"))\n",
    "\n",
    "r2 = rectangle()\n",
    "l2 = int(input(\"Enter length of rectangle2 : \"))\n",
    "b2 = int(input(\"Enter breadth of rectangle2 : \"))\n",
    "\n",
    "p1 = r1.area(l1, b1)\n",
    "print(\"\\narea of rectangle1 :\", p1)\n",
    "\n",
    "per1 = r1.parimeter(l1, b1)\n",
    "print(\"perimeter of rectangle1 :\", per1)\n",
    "\n",
    "p2 = r2.area(l2, b2)\n",
    "print(\"\\narea of rectangle2 :\", p2)\n",
    "\n",
    "per2 = r2.parimeter(l2, b2)\n",
    "print(\"perimeter of rectangle2 :\", per2)\n",
    "\n",
    "if p1 > p2:\n",
    "    print(\"\\nRectangle 1 is greater\")\n",
    "elif p1 < p2:\n",
    "    print(\"\\nRectangle 2 is greater\")\n",
    "else:\n",
    "    print(\"\\nRectangles are equal\")"
   ]
  },
  {
   "cell_type": "code",
   "execution_count": null,
   "id": "3c93fbfe-1572-4d2a-bdb7-7fec7ed6a802",
   "metadata": {},
   "outputs": [],
   "source": []
  }
 ],
 "metadata": {
  "kernelspec": {
   "display_name": "Python 3 (ipykernel)",
   "language": "python",
   "name": "python3"
  },
  "language_info": {
   "codemirror_mode": {
    "name": "ipython",
    "version": 3
   },
   "file_extension": ".py",
   "mimetype": "text/x-python",
   "name": "python",
   "nbconvert_exporter": "python",
   "pygments_lexer": "ipython3",
   "version": "3.11.7"
  }
 },
 "nbformat": 4,
 "nbformat_minor": 5
}
