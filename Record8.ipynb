{
 "cells": [
  {
   "cell_type": "code",
   "execution_count": 3,
   "id": "240ae147-48ad-4a51-a6c5-d004410059ff",
   "metadata": {},
   "outputs": [
    {
     "name": "stdin",
     "output_type": "stream",
     "text": [
      "Enter first set of colors :  blue black red\n",
      "Enter second set of colors :  yellow white black\n"
     ]
    },
    {
     "name": "stdout",
     "output_type": "stream",
     "text": [
      "First Set of colors:  {'blue', 'red', 'black'}\n",
      "Second Set of colors:  {'white', 'yellow', 'black'}\n",
      "The difference is:  {'blue', 'red'}\n"
     ]
    }
   ],
   "source": [
    "# Print out all colors of color set1 not contained in color set2\n",
    "color1 = input(\"Enter first set of colors : \")\n",
    "c1 = set(color1.split())\n",
    "\n",
    "color2 = input(\"Enter second set of colors : \")\n",
    "c2 = set(color2.split())\n",
    "\n",
    "print(\"First Set of colors: \", c1)\n",
    "print(\"Second Set of colors: \", c2)\n",
    "\n",
    "dif = c1-c2\n",
    "print(\"The difference is: \", dif)"
   ]
  },
  {
   "cell_type": "code",
   "execution_count": 5,
   "id": "bde69b96-22f0-4921-9b15-0dd2442f5a45",
   "metadata": {},
   "outputs": [
    {
     "name": "stdin",
     "output_type": "stream",
     "text": [
      "Enter first set of colors :  blue black\n",
      "Enter second set of colors :  red white\n"
     ]
    },
    {
     "name": "stdout",
     "output_type": "stream",
     "text": [
      "First Set of colors:  {'blue', 'red', 'black'}\n",
      "Second Set of colors:  {'white', 'yellow', 'black'}\n",
      "The merged is:  {'red', 'white', 'black', 'blue', 'yellow'}\n"
     ]
    }
   ],
   "source": [
    "# Print out all colors from color set1 and color set2\n",
    "colour1 = input(\"Enter first set of colors : \")\n",
    "co1 = set(color1.split())\n",
    "\n",
    "coloru2 = input(\"Enter second set of colors : \")\n",
    "co2 = set(color2.split())\n",
    "\n",
    "print(\"First Set of colors: \", co1)\n",
    "print(\"Second Set of colors: \", co2)\n",
    "\n",
    "mrg = co1|co2\n",
    "print(\"The merged is: \", mrg)"
   ]
  },
  {
   "cell_type": "code",
   "execution_count": null,
   "id": "e4d2b4bc-e792-4055-bdc1-f80cf5c2af65",
   "metadata": {},
   "outputs": [],
   "source": []
  }
 ],
 "metadata": {
  "kernelspec": {
   "display_name": "Python 3 (ipykernel)",
   "language": "python",
   "name": "python3"
  },
  "language_info": {
   "codemirror_mode": {
    "name": "ipython",
    "version": 3
   },
   "file_extension": ".py",
   "mimetype": "text/x-python",
   "name": "python",
   "nbconvert_exporter": "python",
   "pygments_lexer": "ipython3",
   "version": "3.11.7"
  }
 },
 "nbformat": 4,
 "nbformat_minor": 5
}
