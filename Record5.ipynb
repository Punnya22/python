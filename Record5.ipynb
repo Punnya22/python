{
 "cells": [
  {
   "cell_type": "code",
   "execution_count": 5,
   "id": "0aae5616-dfb8-45a4-a5d5-fc8b325132fe",
   "metadata": {},
   "outputs": [
    {
     "name": "stdin",
     "output_type": "stream",
     "text": [
      "Enter some colors :  black,white,blue,red,green\n"
     ]
    },
    {
     "name": "stdout",
     "output_type": "stream",
     "text": [
      "['black', 'white', 'blue', 'red', 'green']\n",
      "The first color is :  black\n",
      "The last color is :  green\n"
     ]
    }
   ],
   "source": [
    "#list of colors separated by comma\n",
    "color=input(\"Enter some colors : \")\n",
    "c=color.split(\",\")\n",
    "print(c)\n",
    "print(\"The first color is : \",c[0])\n",
    "print(\"The last color is : \",c[-1])"
   ]
  },
  {
   "cell_type": "code",
   "execution_count": 12,
   "id": "fd0e3c6b-6f43-41b7-9de6-ff55218bfbd4",
   "metadata": {},
   "outputs": [
    {
     "name": "stdin",
     "output_type": "stream",
     "text": [
      "Enter a file name :  extension.pyn\n"
     ]
    },
    {
     "name": "stdout",
     "output_type": "stream",
     "text": [
      "The extension of the file name is :  pyn\n"
     ]
    }
   ],
   "source": [
    "#accept a file name from a user and print extension for that\n",
    "file=input(\"Enter a file name : \")\n",
    "f=file.split(\".\")\n",
    "print(\"The extension of the file name is : \",f[-1])"
   ]
  },
  {
   "cell_type": "code",
   "execution_count": 13,
   "id": "ab3da869-0bfd-4fae-8e5f-7508f45fcdaf",
   "metadata": {},
   "outputs": [
    {
     "name": "stdin",
     "output_type": "stream",
     "text": [
      "Enter numbers :  1 2 3 5\n"
     ]
    },
    {
     "name": "stdout",
     "output_type": "stream",
     "text": [
      "List :  [1, 2, 3, 5]\n",
      "sum :  11\n"
     ]
    }
   ],
   "source": [
    "#accept seq. comma seprate no. from user and generate list &find sum\n",
    "n=input(\"Enter numbers : \")\n",
    "num=list(map(int,n.split()))\n",
    "print(\"List : \",num)\n",
    "total=sum(num)\n",
    "print(\"sum : \",total)"
   ]
  },
  {
   "cell_type": "code",
   "execution_count": null,
   "id": "068dcb27-fee1-41ff-96aa-155e38f5d741",
   "metadata": {},
   "outputs": [],
   "source": []
  }
 ],
 "metadata": {
  "kernelspec": {
   "display_name": "Python 3 (ipykernel)",
   "language": "python",
   "name": "python3"
  },
  "language_info": {
   "codemirror_mode": {
    "name": "ipython",
    "version": 3
   },
   "file_extension": ".py",
   "mimetype": "text/x-python",
   "name": "python",
   "nbconvert_exporter": "python",
   "pygments_lexer": "ipython3",
   "version": "3.11.7"
  }
 },
 "nbformat": 4,
 "nbformat_minor": 5
}
