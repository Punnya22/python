{
 "cells": [
  {
   "cell_type": "code",
   "execution_count": 1,
   "id": "7828f2ad-7336-465a-ba53-0606fcbc668e",
   "metadata": {},
   "outputs": [
    {
     "name": "stdin",
     "output_type": "stream",
     "text": [
      "Enter words separated by spaces:  the word is hope\n"
     ]
    },
    {
     "name": "stdout",
     "output_type": "stream",
     "text": [
      "Length of the longest word: 4\n"
     ]
    }
   ],
   "source": [
    "#accept a list of words and return length of longest word\n",
    "def longest_word_length(words):\n",
    "    return max(len(word) for word in words)\n",
    "wrdlst = input(\"Enter words separated by spaces: \").split()\n",
    "l = longest_word_length(wrdlst)\n",
    "print(\"Length of the longest word:\", l)"
   ]
  },
  {
   "cell_type": "code",
   "execution_count": 2,
   "id": "97575f1f-985f-41ac-b332-db712a8375ca",
   "metadata": {},
   "outputs": [
    {
     "name": "stdin",
     "output_type": "stream",
     "text": [
      "Enter your integer:  5\n"
     ]
    },
    {
     "name": "stdout",
     "output_type": "stream",
     "text": [
      "*\n",
      "**\n",
      "***\n",
      "****\n",
      "*****\n",
      "****\n",
      "***\n",
      "**\n",
      "*\n"
     ]
    }
   ],
   "source": [
    "#construct following pattern using nested loop\n",
    "def print_star_pattern(n):\n",
    "    for i in range(1, n + 1):\n",
    "        for j in range(i):\n",
    "            print('*', end='')\n",
    "        print()\n",
    "    for i in range(n - 1, 0, -1):\n",
    "        for j in range(i):\n",
    "            print('*', end='')\n",
    "        print()\n",
    "num = int(input(\"Enter your integer: \"))\n",
    "print_star_pattern(num)"
   ]
  },
  {
   "cell_type": "code",
   "execution_count": 3,
   "id": "49d80232-965a-4b2d-8f7f-33a4503be357",
   "metadata": {},
   "outputs": [
    {
     "name": "stdin",
     "output_type": "stream",
     "text": [
      "Enter a number:  10\n"
     ]
    },
    {
     "name": "stdout",
     "output_type": "stream",
     "text": [
      "Factors of 10 : [1, 2, 5, 10]\n"
     ]
    }
   ],
   "source": [
    "#generate all factors of a number\n",
    "def get_factors(num):\n",
    "    return [i for i in range(1, num + 1) if num % i == 0]\n",
    "number = int(input(\"Enter a number: \"))\n",
    "factors = get_factors(number)\n",
    "print(\"Factors of\", number, \":\", factors)"
   ]
  },
  {
   "cell_type": "code",
   "execution_count": 7,
   "id": "c730f271-45a6-4c2d-9b3d-3aa428465611",
   "metadata": {},
   "outputs": [
    {
     "name": "stdin",
     "output_type": "stream",
     "text": [
      "Enter the side of the square:  4\n"
     ]
    },
    {
     "name": "stdout",
     "output_type": "stream",
     "text": [
      "Area of square: 16.0\n"
     ]
    },
    {
     "name": "stdin",
     "output_type": "stream",
     "text": [
      "\n",
      "Enter the length of the rectangle:  5\n",
      "Enter the breadth of the rectangle:  2\n"
     ]
    },
    {
     "name": "stdout",
     "output_type": "stream",
     "text": [
      "Area of rectangle: 10.0\n"
     ]
    },
    {
     "name": "stdin",
     "output_type": "stream",
     "text": [
      "\n",
      "Enter the base of the triangle:  4\n",
      "Enter the height of the triangle:  3\n"
     ]
    },
    {
     "name": "stdout",
     "output_type": "stream",
     "text": [
      "Area of triangle: 6.0\n"
     ]
    }
   ],
   "source": [
    "#write lambda function to find area of square,rectangle & triangle\n",
    "def calculate_areas():\n",
    "    # area of a square\n",
    "    asquare = lambda side: side ** 2\n",
    "    side = float(input(\"Enter the side of the square: \"))\n",
    "    print(\"Area of square:\", asquare(side))\n",
    "\n",
    "    # area of a rectangle\n",
    "    arectangle = lambda length, breadth: length * breadth\n",
    "    length = float(input(\"\\nEnter the length of the rectangle: \"))\n",
    "    breadth = float(input(\"Enter the breadth of the rectangle: \"))\n",
    "    print(\"Area of rectangle:\", arectangle(length, breadth))\n",
    "\n",
    "    # area of a triangle\n",
    "    atriangle = lambda base, height: 0.5 * base * height\n",
    "    base = float(input(\"\\nEnter the base of the triangle: \"))\n",
    "    height = float(input(\"Enter the height of the triangle: \"))\n",
    "    print(\"Area of triangle:\", atriangle(base, height))\n",
    "\n",
    "# Call the function to execute\n",
    "calculate_areas()"
   ]
  },
  {
   "cell_type": "code",
   "execution_count": null,
   "id": "d6f7464f-2501-4f09-9f3d-55af81e62b5f",
   "metadata": {},
   "outputs": [],
   "source": []
  }
 ],
 "metadata": {
  "kernelspec": {
   "display_name": "Python 3 (ipykernel)",
   "language": "python",
   "name": "python3"
  },
  "language_info": {
   "codemirror_mode": {
    "name": "ipython",
    "version": 3
   },
   "file_extension": ".py",
   "mimetype": "text/x-python",
   "name": "python",
   "nbconvert_exporter": "python",
   "pygments_lexer": "ipython3",
   "version": "3.11.7"
  }
 },
 "nbformat": 4,
 "nbformat_minor": 5
}
