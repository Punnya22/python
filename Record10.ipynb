{
 "cells": [
  {
   "cell_type": "code",
   "execution_count": 3,
   "id": "4d1f2138-f544-461c-a9ca-24b1052bb5ef",
   "metadata": {},
   "outputs": [
    {
     "name": "stdin",
     "output_type": "stream",
     "text": [
      "Enter the first list of integer :  2 1 3 4 \n",
      "Enter the Second list of integer :  4 6 7 5\n"
     ]
    },
    {
     "name": "stdout",
     "output_type": "stream",
     "text": [
      "The first list :  [2, 1, 3, 4]\n",
      "The second list :  [4, 6, 7, 5]\n",
      "The length of list is same\n",
      "The sum of the lists is same\n",
      "The values of the lists are same :  {4}\n"
     ]
    }
   ],
   "source": [
    "#2 list of int,(a)list are same length (b)list sums (c)value occure in both\n",
    "list1=input(\"Enter the first list of integer : \")\n",
    "l1=list(map(int,list1.split()))\n",
    "list2=input(\"Enter the Second list of integer : \")\n",
    "l2=list(map(int,list2.split()))\n",
    "print(\"The first list : \",l1)\n",
    "print(\"The second list : \",l2)\n",
    "\n",
    "if len(l1)==len(l2):\n",
    "    print(\"The length of list is same\")\n",
    "else:\n",
    "    print(\"The length of list is not same\")\n",
    "\n",
    "if sum(l1)==sum(l2):\n",
    "    print(\"The sum of the lists is same\")\n",
    "else:\n",
    "    print(\"The sum of the lists is same\")\n",
    "\n",
    "val=set(l1)&set(l2)\n",
    "if val:\n",
    "    print(\"The values of the lists are same : \",val)\n",
    "else:\n",
    "    print(\"The values of the lists are not same\")"
   ]
  },
  {
   "cell_type": "code",
   "execution_count": 6,
   "id": "113913de-6586-49fe-8919-a09b418b6f67",
   "metadata": {},
   "outputs": [
    {
     "name": "stdin",
     "output_type": "stream",
     "text": [
      "Enter a String :  walk\n"
     ]
    },
    {
     "name": "stdout",
     "output_type": "stream",
     "text": [
      "The string is :  walking\n"
     ]
    }
   ],
   "source": [
    "#add 'ing' at end of str, if alredy eds with 'ing'then add 'ly'\n",
    "wrd=input(\"Enter a String : \")\n",
    "if wrd.endswith(\"ing\"):\n",
    "    wrd+=\"ly\"\n",
    "else:\n",
    "    wrd+=\"ing\"\n",
    "print(\"The string is : \",wrd)"
   ]
  },
  {
   "cell_type": "code",
   "execution_count": null,
   "id": "dc7d7bd5-e2db-4d05-946a-2b8e23f5174a",
   "metadata": {},
   "outputs": [],
   "source": []
  }
 ],
 "metadata": {
  "kernelspec": {
   "display_name": "Python 3 (ipykernel)",
   "language": "python",
   "name": "python3"
  },
  "language_info": {
   "codemirror_mode": {
    "name": "ipython",
    "version": 3
   },
   "file_extension": ".py",
   "mimetype": "text/x-python",
   "name": "python",
   "nbconvert_exporter": "python",
   "pygments_lexer": "ipython3",
   "version": "3.11.7"
  }
 },
 "nbformat": 4,
 "nbformat_minor": 5
}
