{
 "cells": [
  {
   "cell_type": "code",
   "execution_count": 1,
   "id": "acc6c9a9-2937-4a76-b713-2a33ec6a82fb",
   "metadata": {},
   "outputs": [
    {
     "name": "stdout",
     "output_type": "stream",
     "text": [
      "Even No. from 1-25 is :  [2, 4, 6, 8, 10, 12, 14, 16, 18, 20, 22, 24]\n",
      "sum of even No. :  156\n"
     ]
    }
   ],
   "source": [
    "#print all even no. from 1-25 & calc sum (range() directly without a loop or condition)\n",
    "even=list(range(2,25,2))\n",
    "print(\"Even No. from 1-25 is : \",even)\n",
    "print(\"sum of even No. : \",sum(even))"
   ]
  },
  {
   "cell_type": "code",
   "execution_count": 7,
   "id": "ec81ff18-863a-428e-b0c1-395f83576a22",
   "metadata": {},
   "outputs": [
    {
     "name": "stdout",
     "output_type": "stream",
     "text": [
      "Rev No. is :  [25, 24, 23, 22, 21, 20, 19, 18, 17, 16, 15, 14, 13, 12, 11, 10, 9, 8, 7, 6, 5, 4, 3, 2, 1]\n",
      "sum of even No. :  325\n"
     ]
    }
   ],
   "source": [
    "#print all in reverse order & calc the sum\n",
    "rev=list(range(25,0,-1))\n",
    "print(\"Rev No. is : \",rev)\n",
    "print(\"sum of even No. : \",sum(rev))"
   ]
  },
  {
   "cell_type": "code",
   "execution_count": null,
   "id": "31a43104-7f8c-49ba-8a86-d9c070ec43e7",
   "metadata": {},
   "outputs": [],
   "source": []
  }
 ],
 "metadata": {
  "kernelspec": {
   "display_name": "Python 3 (ipykernel)",
   "language": "python",
   "name": "python3"
  },
  "language_info": {
   "codemirror_mode": {
    "name": "ipython",
    "version": 3
   },
   "file_extension": ".py",
   "mimetype": "text/x-python",
   "name": "python",
   "nbconvert_exporter": "python",
   "pygments_lexer": "ipython3",
   "version": "3.11.7"
  }
 },
 "nbformat": 4,
 "nbformat_minor": 5
}
