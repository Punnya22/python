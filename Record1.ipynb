{
 "cells": [
  {
   "cell_type": "code",
   "execution_count": 1,
   "id": "6e0204aa-9dd6-4809-86aa-4661725eb4ae",
   "metadata": {},
   "outputs": [
    {
     "name": "stdin",
     "output_type": "stream",
     "text": [
      "Enter a number :  3\n"
     ]
    },
    {
     "name": "stdout",
     "output_type": "stream",
     "text": [
      "3 + 33 + 333 = 369\n"
     ]
    }
   ],
   "source": [
    "#program that accept an integer(n) and computes the value of n+nn+nnn\n",
    "num=int(input(\"Enter a number : \"))\n",
    "n=num\n",
    "nn=n*10+n\n",
    "nnn=n*100+nn\n",
    "sum=n+nn+nnn\n",
    "print(n,\"+\",nn,\"+\",nnn,\"=\",sum)"
   ]
  },
  {
   "cell_type": "code",
   "execution_count": 7,
   "id": "ef088b79-8e65-4558-9fac-7f77faa0e59b",
   "metadata": {},
   "outputs": [
    {
     "name": "stdin",
     "output_type": "stream",
     "text": [
      "Enter the radious of a circle :  2\n"
     ]
    },
    {
     "name": "stdout",
     "output_type": "stream",
     "text": [
      "Area of a circle is :  12.56\n"
     ]
    }
   ],
   "source": [
    "#area of a circle\n",
    "import math\n",
    "\n",
    "r=float(input(\"Enter the radious of a circle : \"))\n",
    "pi=3.14\n",
    "area=pi*r*r\n",
    "print(\"Area of a circle is : \",area)"
   ]
  },
  {
   "cell_type": "code",
   "execution_count": null,
   "id": "8b481e48-9f91-43f3-bf62-7266c5dc974c",
   "metadata": {},
   "outputs": [],
   "source": []
  }
 ],
 "metadata": {
  "kernelspec": {
   "display_name": "Python 3 (ipykernel)",
   "language": "python",
   "name": "python3"
  },
  "language_info": {
   "codemirror_mode": {
    "name": "ipython",
    "version": 3
   },
   "file_extension": ".py",
   "mimetype": "text/x-python",
   "name": "python",
   "nbconvert_exporter": "python",
   "pygments_lexer": "ipython3",
   "version": "3.11.7"
  }
 },
 "nbformat": 4,
 "nbformat_minor": 5
}
