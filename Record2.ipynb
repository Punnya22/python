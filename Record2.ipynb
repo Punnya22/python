{
 "cells": [
  {
   "cell_type": "code",
   "execution_count": 4,
   "id": "fd5d97a0-f817-4a48-a976-6c90f2020d62",
   "metadata": {},
   "outputs": [
    {
     "name": "stdin",
     "output_type": "stream",
     "text": [
      "Enter the celsius :  3\n"
     ]
    },
    {
     "name": "stdout",
     "output_type": "stream",
     "text": [
      "The convertion of celsius to fahrenheit is :  37.4\n"
     ]
    }
   ],
   "source": [
    "#To convert celsius to fahrenheit\n",
    "c=float(input(\"Enter the celsius : \"))\n",
    "f=c*9/5+32\n",
    "print(\"The convertion of celsius to fahrenheit is : \",f) "
   ]
  },
  {
   "cell_type": "code",
   "execution_count": 3,
   "id": "43dc13b1-476e-4e07-9772-c65e3b52a6bc",
   "metadata": {},
   "outputs": [
    {
     "name": "stdin",
     "output_type": "stream",
     "text": [
      "Enter the kilometer :  2\n"
     ]
    },
    {
     "name": "stdout",
     "output_type": "stream",
     "text": [
      "The convertion of kilometers to miles is :  1.24\n"
     ]
    }
   ],
   "source": [
    "#To convert kilometers to miles\n",
    "km=float(input(\"Enter the kilometer : \"))\n",
    "m=km/1.609\n",
    "mr=round(m, 2)\n",
    "print(\"The convertion of kilometers to miles is : \",mr)"
   ]
  },
  {
   "cell_type": "code",
   "execution_count": null,
   "id": "ef791d7d-7562-4873-bf35-9b84ebd1f3f1",
   "metadata": {},
   "outputs": [],
   "source": []
  }
 ],
 "metadata": {
  "kernelspec": {
   "display_name": "Python 3 (ipykernel)",
   "language": "python",
   "name": "python3"
  },
  "language_info": {
   "codemirror_mode": {
    "name": "ipython",
    "version": 3
   },
   "file_extension": ".py",
   "mimetype": "text/x-python",
   "name": "python",
   "nbconvert_exporter": "python",
   "pygments_lexer": "ipython3",
   "version": "3.11.7"
  }
 },
 "nbformat": 4,
 "nbformat_minor": 5
}
