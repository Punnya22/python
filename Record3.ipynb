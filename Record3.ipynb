{
 "cells": [
  {
   "cell_type": "code",
   "execution_count": 2,
   "id": "e39361ff-2cf2-4fcb-b0d6-0e041c494ecc",
   "metadata": {},
   "outputs": [
    {
     "name": "stdin",
     "output_type": "stream",
     "text": [
      "Enter the first number :  5\n",
      "Enter the Second number :  3\n",
      "Enter the third number :  7\n"
     ]
    },
    {
     "name": "stdout",
     "output_type": "stream",
     "text": [
      "The biggest number is :  7\n"
     ]
    }
   ],
   "source": [
    "#to find biggest of 3 nubers use max()\n",
    "a=int(input(\"Enter the first number : \"))\n",
    "b=int(input(\"Enter the Second number : \"))\n",
    "c=int(input(\"Enter the third number : \"))\n",
    "big=max(a,b,c)\n",
    "print(\"The biggest number is : \",big)"
   ]
  },
  {
   "cell_type": "code",
   "execution_count": null,
   "id": "b0bc24a1-518d-473c-ab65-abdf31124d52",
   "metadata": {},
   "outputs": [],
   "source": []
  }
 ],
 "metadata": {
  "kernelspec": {
   "display_name": "Python 3 (ipykernel)",
   "language": "python",
   "name": "python3"
  },
  "language_info": {
   "codemirror_mode": {
    "name": "ipython",
    "version": 3
   },
   "file_extension": ".py",
   "mimetype": "text/x-python",
   "name": "python",
   "nbconvert_exporter": "python",
   "pygments_lexer": "ipython3",
   "version": "3.11.7"
  }
 },
 "nbformat": 4,
 "nbformat_minor": 5
}
