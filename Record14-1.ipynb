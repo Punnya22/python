{
 "cells": [
  {
   "cell_type": "code",
   "execution_count": 8,
   "id": "21a5afba-1c61-4a66-9200-5af43e742e5b",
   "metadata": {},
   "outputs": [
    {
     "name": "stdout",
     "output_type": "stream",
     "text": [
      "\n",
      "1.Rectangle\n",
      "2.Circle\n",
      "3.Exit\n",
      "\n"
     ]
    },
    {
     "name": "stdin",
     "output_type": "stream",
     "text": [
      "Enter your choice: 1\n",
      "Enter the length of rectangle:  2\n",
      "Enter the breadth of rectangle:  4\n"
     ]
    },
    {
     "name": "stdout",
     "output_type": "stream",
     "text": [
      "The area of rectangle:\n",
      "8.0\n",
      "The perimeter of rectangle:\n",
      "12.0\n",
      "\n",
      "1.Rectangle\n",
      "2.Circle\n",
      "3.Exit\n",
      "\n"
     ]
    },
    {
     "name": "stdin",
     "output_type": "stream",
     "text": [
      "Enter your choice: 2\n",
      "Enter the radius:  2\n"
     ]
    },
    {
     "name": "stdout",
     "output_type": "stream",
     "text": [
      "Area of circle:\n",
      "12.56\n",
      "Perimeter of circle:\n",
      "12.56\n",
      "\n",
      "1.Rectangle\n",
      "2.Circle\n",
      "3.Exit\n",
      "\n"
     ]
    },
    {
     "name": "stdin",
     "output_type": "stream",
     "text": [
      "Enter your choice: 3\n"
     ]
    },
    {
     "name": "stdout",
     "output_type": "stream",
     "text": [
      "Exiting...\n"
     ]
    }
   ],
   "source": [
    "import rect\n",
    "import cir\n",
    "\n",
    "while True:\n",
    "    print(\"\\n1.Rectangle\\n2.Circle\\n3.Exit\\n\")\n",
    "    ch = int(input(\"Enter your choice:\"))\n",
    "    if ch == 1:\n",
    "        l = float(input(\"Enter the length of rectangle: \"))\n",
    "        b = float(input(\"Enter the breadth of rectangle: \"))\n",
    "        print(\"The area of rectangle:\")\n",
    "        rect.area(l, b)\n",
    "        print(\"The perimeter of rectangle:\")\n",
    "        rect.perimeter(l, b)\n",
    "    elif ch == 2:\n",
    "        r = float(input(\"Enter the radius: \"))\n",
    "        print(\"Area of circle:\")\n",
    "        cir.area(r)\n",
    "        print(\"Perimeter of circle:\")\n",
    "        cir.perimeter(r)\n",
    "    else:\n",
    "        print(\"Exiting...\")\n",
    "        break"
   ]
  },
  {
   "cell_type": "code",
   "execution_count": null,
   "id": "9a447277-6502-428a-a5ee-13636becb1b3",
   "metadata": {},
   "outputs": [],
   "source": []
  }
 ],
 "metadata": {
  "kernelspec": {
   "display_name": "Python 3 (ipykernel)",
   "language": "python",
   "name": "python3"
  },
  "language_info": {
   "codemirror_mode": {
    "name": "ipython",
    "version": 3
   },
   "file_extension": ".py",
   "mimetype": "text/x-python",
   "name": "python",
   "nbconvert_exporter": "python",
   "pygments_lexer": "ipython3",
   "version": "3.11.7"
  }
 },
 "nbformat": 4,
 "nbformat_minor": 5
}
