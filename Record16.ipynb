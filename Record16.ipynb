{
 "cells": [
  {
   "cell_type": "code",
   "execution_count": 9,
   "id": "4474eb4b-7435-40c1-9000-63a77d538e79",
   "metadata": {},
   "outputs": [
    {
     "name": "stdin",
     "output_type": "stream",
     "text": [
      "Enter your account number :  2345677898\n",
      "Enter your name :  aishu\n",
      "Enter your account type :  current\n",
      "Enter initial balance :  1000\n"
     ]
    },
    {
     "name": "stdout",
     "output_type": "stream",
     "text": [
      "\n",
      "1. Deposit\n",
      "2. Withdraw\n",
      "3. Account information\n",
      "4. Exit\n"
     ]
    },
    {
     "name": "stdin",
     "output_type": "stream",
     "text": [
      "Enter your choice :  3\n"
     ]
    },
    {
     "name": "stdout",
     "output_type": "stream",
     "text": [
      "\n",
      "Account Details:\n",
      "Account Number : 2345677898\n",
      "Name : aishu\n",
      "Account Type : current\n",
      "Balance : 1000.0\n",
      "\n",
      "1. Deposit\n",
      "2. Withdraw\n",
      "3. Account information\n",
      "4. Exit\n"
     ]
    },
    {
     "name": "stdin",
     "output_type": "stream",
     "text": [
      "Enter your choice :  2\n",
      "Withdraw amount :  2000\n"
     ]
    },
    {
     "name": "stdout",
     "output_type": "stream",
     "text": [
      "Initial balance :  1000.0\n",
      "You don't have enough balance to withdraw !!\n",
      "Current balance :  1000.0\n",
      "\n",
      "1. Deposit\n",
      "2. Withdraw\n",
      "3. Account information\n",
      "4. Exit\n"
     ]
    },
    {
     "name": "stdin",
     "output_type": "stream",
     "text": [
      "Enter your choice :  4\n"
     ]
    },
    {
     "name": "stdout",
     "output_type": "stream",
     "text": [
      "Exiting....\n"
     ]
    }
   ],
   "source": [
    "class bank:\n",
    "    def __init__(self, acNo, name, type, balance):\n",
    "        self.ac = acNo\n",
    "        self.n = name\n",
    "        self.t = type\n",
    "        self.b = balance\n",
    "        \n",
    "    def deposit(self, depo):\n",
    "        print(\"Initial Balance : \", self.b)\n",
    "        self.b += depo\n",
    "        print(depo, \"is deposited\")\n",
    "        print(\"Current balance : \", self.b)\n",
    "        \n",
    "    def withdraw(self):\n",
    "        self.amount = int(input(\"Withdraw amount : \"))\n",
    "        print(\"Initial balance : \", self.b)\n",
    "        if self.amount > self.b:\n",
    "            print(\"You don't have enough balance to withdraw !!\")\n",
    "            print(\"Current balance : \", self.b)\n",
    "        else:\n",
    "            print(self.amount, \"is withdrawn\")\n",
    "            self.b -= self.amount\n",
    "            print(\"Current balance : \", self.b)\n",
    "\n",
    "    def display(self):\n",
    "        print(\"\\nAccount Details:\")\n",
    "        print(\"Account Number :\", self.ac)\n",
    "        print(\"Name :\", self.n)\n",
    "        print(\"Account Type :\", self.t)\n",
    "        print(\"Balance :\", self.b)\n",
    "\n",
    "acNo = int(input(\"Enter your account number : \"))\n",
    "name = input(\"Enter your name : \")\n",
    "type = input(\"Enter your account type : \")\n",
    "balance = float(input(\"Enter initial balance : \"))\n",
    "account = bank(acNo, name, type, balance)\n",
    "\n",
    "while True:\n",
    "    print(\"\\n1. Deposit\\n2. Withdraw\\n3. Account information\\n4. Exit\")\n",
    "    c = int(input(\"Enter your choice : \"))\n",
    "    if c == 1:\n",
    "        depo_amount = float(input(\"\\nEnter amount to deposit : \"))\n",
    "        account.deposit(depo_amount)\n",
    "    elif c == 2:\n",
    "        account.withdraw()\n",
    "    elif c == 3:\n",
    "        account.display()\n",
    "    else:\n",
    "        print(\"Exiting....\")\n",
    "        break"
   ]
  },
  {
   "cell_type": "code",
   "execution_count": null,
   "id": "ee27ec40-827c-440f-bb7b-29105cfdbdb5",
   "metadata": {},
   "outputs": [],
   "source": []
  }
 ],
 "metadata": {
  "kernelspec": {
   "display_name": "Python 3 (ipykernel)",
   "language": "python",
   "name": "python3"
  },
  "language_info": {
   "codemirror_mode": {
    "name": "ipython",
    "version": 3
   },
   "file_extension": ".py",
   "mimetype": "text/x-python",
   "name": "python",
   "nbconvert_exporter": "python",
   "pygments_lexer": "ipython3",
   "version": "3.11.7"
  }
 },
 "nbformat": 4,
 "nbformat_minor": 5
}
