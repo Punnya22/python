{
 "cells": [
  {
   "cell_type": "code",
   "execution_count": 2,
   "id": "c2074fc8-ea2a-47cf-a0d0-54e81d8531dc",
   "metadata": {},
   "outputs": [
    {
     "name": "stdin",
     "output_type": "stream",
     "text": [
      "Enter the integers:  1 2 -7 3 -5 8\n"
     ]
    },
    {
     "name": "stdout",
     "output_type": "stream",
     "text": [
      "Positive numbers are: [1, 2, 3, 8]\n"
     ]
    }
   ],
   "source": [
    "#Generate positive list of no. from a given list of int\n",
    "num = list(map(int, input(\"Enter the integers: \").split()))\n",
    "pve = [n for n in num if n > 0]\n",
    "print(\"Positive numbers are:\", pve)"
   ]
  },
  {
   "cell_type": "code",
   "execution_count": 6,
   "id": "62b94ec6-f37b-45bc-8bb6-455e53e183b9",
   "metadata": {},
   "outputs": [
    {
     "name": "stdin",
     "output_type": "stream",
     "text": [
      "Enter the numbers:  2 4 6\n"
     ]
    },
    {
     "name": "stdout",
     "output_type": "stream",
     "text": [
      "Squares of the numbers are: [4, 16, 36]\n"
     ]
    }
   ],
   "source": [
    "#square of n numbers\n",
    "num = list(map(int, input(\"Enter the numbers: \").split()))\n",
    "sqr = [n**2 for n in num]\n",
    "print(\"Squares of the numbers are:\", sqr)"
   ]
  },
  {
   "cell_type": "code",
   "execution_count": 8,
   "id": "7c07bb56-4598-4fe5-9d20-9c7183c4a6d5",
   "metadata": {},
   "outputs": [
    {
     "name": "stdin",
     "output_type": "stream",
     "text": [
      "Enter a word:  aiswarya\n"
     ]
    },
    {
     "name": "stdout",
     "output_type": "stream",
     "text": [
      "Vowels in the word are: ['a', 'i', 'a', 'a']\n"
     ]
    }
   ],
   "source": [
    "#form a list of vowels selected from a given word\n",
    "wrd = input(\"Enter a word: \")\n",
    "vowels = [v for v in wrd if v.lower() in 'aeiou']\n",
    "print(\"Vowels in the word are:\", vowels)"
   ]
  },
  {
   "cell_type": "code",
   "execution_count": 11,
   "id": "d92bfe02-5410-4d3c-9cb6-f1e460fc90d5",
   "metadata": {},
   "outputs": [
    {
     "name": "stdin",
     "output_type": "stream",
     "text": [
      "Enter a word:  jesna\n"
     ]
    },
    {
     "name": "stdout",
     "output_type": "stream",
     "text": [
      "Ordinal values of each character: [106, 101, 115, 110, 97]\n"
     ]
    }
   ],
   "source": [
    "#list ordinal value of each element of a word(hint:- use ord()to get ordinal value)\n",
    "word = input(\"Enter a word: \")                \n",
    "ordi = [ord(ele) for ele in word]\n",
    "print(\"Ordinal values of each character:\", ordi)"
   ]
  },
  {
   "cell_type": "code",
   "execution_count": null,
   "id": "e9810f76-f81b-41d9-9732-cda7ab39309e",
   "metadata": {},
   "outputs": [],
   "source": []
  }
 ],
 "metadata": {
  "kernelspec": {
   "display_name": "Python 3 (ipykernel)",
   "language": "python",
   "name": "python3"
  },
  "language_info": {
   "codemirror_mode": {
    "name": "ipython",
    "version": 3
   },
   "file_extension": ".py",
   "mimetype": "text/x-python",
   "name": "python",
   "nbconvert_exporter": "python",
   "pygments_lexer": "ipython3",
   "version": "3.11.7"
  }
 },
 "nbformat": 4,
 "nbformat_minor": 5
}
