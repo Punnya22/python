{
 "cells": [
  {
   "cell_type": "code",
   "execution_count": 2,
   "id": "4474eb4b-7435-40c1-9000-63a77d538e79",
   "metadata": {},
   "outputs": [
    {
     "name": "stdin",
     "output_type": "stream",
     "text": [
      "Enter publisher name:  dc books\n",
      "Enter book title:  timeless faritail\n",
      "Enter author name:  Gowri Rekha\n",
      "Enter price:  450\n",
      "Enter number of pages:  240\n"
     ]
    },
    {
     "name": "stdout",
     "output_type": "stream",
     "text": [
      "\n",
      "\n",
      "Publisher Name: dc books\n",
      "Book Title: timeless faritail\n",
      "Author: Gowri Rekha\n",
      "Price: 450.0\n",
      "Number of Pages: 240\n"
     ]
    }
   ],
   "source": [
    "class Publisher:\n",
    "    def __init__(self, name):\n",
    "        self.name = name\n",
    "        \n",
    "    def display(self):\n",
    "        print(\"Publisher Name:\", self.name)\n",
    "\n",
    "class Book(Publisher):\n",
    "    def __init__(self, name, title, author):\n",
    "        super().__init__(name)\n",
    "        self.title = title\n",
    "        self.author = author\n",
    "\n",
    "    def display(self):\n",
    "        super().display()\n",
    "        print(\"Book Title:\", self.title)\n",
    "        print(\"Author:\", self.author)\n",
    "\n",
    "class Python(Book):\n",
    "    def __init__(self, name, title, author, price, no_of_pages):\n",
    "        super().__init__(name, title, author)\n",
    "        self.price = price\n",
    "        self.no_of_pages = no_of_pages\n",
    "\n",
    "    def display(self):\n",
    "        super().display()\n",
    "        print(\"Price:\", self.price)\n",
    "        print(\"Number of Pages:\", self.no_of_pages)\n",
    "\n",
    "name = input(\"Enter publisher name: \")\n",
    "title = input(\"Enter book title: \")\n",
    "author = input(\"Enter author name: \")\n",
    "price = float(input(\"Enter price: \"))\n",
    "no_of_pages = int(input(\"Enter number of pages: \"))\n",
    "print(\"\\n\")\n",
    "python_book = Python(name, title, author, price, no_of_pages)\n",
    "python_book.display()"
   ]
  },
  {
   "cell_type": "code",
   "execution_count": null,
   "id": "184abfb5-8c5d-4de9-b786-59e7630d8f69",
   "metadata": {},
   "outputs": [],
   "source": []
  }
 ],
 "metadata": {
  "kernelspec": {
   "display_name": "Python 3 (ipykernel)",
   "language": "python",
   "name": "python3"
  },
  "language_info": {
   "codemirror_mode": {
    "name": "ipython",
    "version": 3
   },
   "file_extension": ".py",
   "mimetype": "text/x-python",
   "name": "python",
   "nbconvert_exporter": "python",
   "pygments_lexer": "ipython3",
   "version": "3.11.7"
  }
 },
 "nbformat": 4,
 "nbformat_minor": 5
}
